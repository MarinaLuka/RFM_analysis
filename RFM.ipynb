{
 "cells": [
  {
   "cell_type": "code",
   "execution_count": 12,
   "id": "4e745fa7",
   "metadata": {},
   "outputs": [],
   "source": [
    "import pandas as pd\n",
    "import numpy as np\n",
    "import seaborn as sns\n",
    "sns.set()\n",
    "import matplotlib.pyplot as plt"
   ]
  },
  {
   "cell_type": "code",
   "execution_count": 13,
   "id": "c3719868",
   "metadata": {},
   "outputs": [],
   "source": [
    "sample = pd.read_excel('C:/Users/Марина/Desktop/sample_1.xlsx')"
   ]
  },
  {
   "cell_type": "code",
   "execution_count": 14,
   "id": "9cc661c9",
   "metadata": {},
   "outputs": [
    {
     "data": {
      "text/html": [
       "<div>\n",
       "<style scoped>\n",
       "    .dataframe tbody tr th:only-of-type {\n",
       "        vertical-align: middle;\n",
       "    }\n",
       "\n",
       "    .dataframe tbody tr th {\n",
       "        vertical-align: top;\n",
       "    }\n",
       "\n",
       "    .dataframe thead th {\n",
       "        text-align: right;\n",
       "    }\n",
       "</style>\n",
       "<table border=\"1\" class=\"dataframe\">\n",
       "  <thead>\n",
       "    <tr style=\"text-align: right;\">\n",
       "      <th></th>\n",
       "      <th>sale_date</th>\n",
       "      <th>contact_id</th>\n",
       "      <th>sum_disc</th>\n",
       "    </tr>\n",
       "  </thead>\n",
       "  <tbody>\n",
       "    <tr>\n",
       "      <th>0</th>\n",
       "      <td>2023-09-08</td>\n",
       "      <td>52093</td>\n",
       "      <td>-3307.96</td>\n",
       "    </tr>\n",
       "    <tr>\n",
       "      <th>1</th>\n",
       "      <td>2023-09-13</td>\n",
       "      <td>30216</td>\n",
       "      <td>-1599.00</td>\n",
       "    </tr>\n",
       "    <tr>\n",
       "      <th>2</th>\n",
       "      <td>2023-08-17</td>\n",
       "      <td>6627</td>\n",
       "      <td>-1569.99</td>\n",
       "    </tr>\n",
       "    <tr>\n",
       "      <th>3</th>\n",
       "      <td>2023-09-13</td>\n",
       "      <td>9799</td>\n",
       "      <td>-1220.01</td>\n",
       "    </tr>\n",
       "    <tr>\n",
       "      <th>4</th>\n",
       "      <td>2023-08-30</td>\n",
       "      <td>69480</td>\n",
       "      <td>-1139.97</td>\n",
       "    </tr>\n",
       "  </tbody>\n",
       "</table>\n",
       "</div>"
      ],
      "text/plain": [
       "   sale_date  contact_id  sum_disc\n",
       "0 2023-09-08       52093  -3307.96\n",
       "1 2023-09-13       30216  -1599.00\n",
       "2 2023-08-17        6627  -1569.99\n",
       "3 2023-09-13        9799  -1220.01\n",
       "4 2023-08-30       69480  -1139.97"
      ]
     },
     "execution_count": 14,
     "metadata": {},
     "output_type": "execute_result"
    }
   ],
   "source": [
    "sample.head()"
   ]
  },
  {
   "cell_type": "markdown",
   "id": "7a384ea9",
   "metadata": {},
   "source": [
    "##### В колонке sum_disc есть минусовые значения,вероятно это возвраты.\n",
    "##### Их и позиции с нулевыми значениями считать я не буду, поэтому удалю их из датасета"
   ]
  },
  {
   "cell_type": "code",
   "execution_count": 15,
   "id": "3f246bae",
   "metadata": {},
   "outputs": [
    {
     "data": {
      "text/html": [
       "<div>\n",
       "<style scoped>\n",
       "    .dataframe tbody tr th:only-of-type {\n",
       "        vertical-align: middle;\n",
       "    }\n",
       "\n",
       "    .dataframe tbody tr th {\n",
       "        vertical-align: top;\n",
       "    }\n",
       "\n",
       "    .dataframe thead th {\n",
       "        text-align: right;\n",
       "    }\n",
       "</style>\n",
       "<table border=\"1\" class=\"dataframe\">\n",
       "  <thead>\n",
       "    <tr style=\"text-align: right;\">\n",
       "      <th></th>\n",
       "      <th>sale_date</th>\n",
       "      <th>contact_id</th>\n",
       "      <th>sum_disc</th>\n",
       "    </tr>\n",
       "  </thead>\n",
       "  <tbody>\n",
       "    <tr>\n",
       "      <th>0</th>\n",
       "      <td>2023-09-08</td>\n",
       "      <td>52093</td>\n",
       "      <td>-3307.96</td>\n",
       "    </tr>\n",
       "    <tr>\n",
       "      <th>1</th>\n",
       "      <td>2023-09-13</td>\n",
       "      <td>30216</td>\n",
       "      <td>-1599.00</td>\n",
       "    </tr>\n",
       "    <tr>\n",
       "      <th>2</th>\n",
       "      <td>2023-08-17</td>\n",
       "      <td>6627</td>\n",
       "      <td>-1569.99</td>\n",
       "    </tr>\n",
       "    <tr>\n",
       "      <th>3</th>\n",
       "      <td>2023-09-13</td>\n",
       "      <td>9799</td>\n",
       "      <td>-1220.01</td>\n",
       "    </tr>\n",
       "    <tr>\n",
       "      <th>4</th>\n",
       "      <td>2023-08-30</td>\n",
       "      <td>69480</td>\n",
       "      <td>-1139.97</td>\n",
       "    </tr>\n",
       "    <tr>\n",
       "      <th>...</th>\n",
       "      <td>...</td>\n",
       "      <td>...</td>\n",
       "      <td>...</td>\n",
       "    </tr>\n",
       "    <tr>\n",
       "      <th>122</th>\n",
       "      <td>2023-10-04</td>\n",
       "      <td>17415</td>\n",
       "      <td>-40.02</td>\n",
       "    </tr>\n",
       "    <tr>\n",
       "      <th>123</th>\n",
       "      <td>2023-08-31</td>\n",
       "      <td>70114</td>\n",
       "      <td>-28.03</td>\n",
       "    </tr>\n",
       "    <tr>\n",
       "      <th>124</th>\n",
       "      <td>2023-09-28</td>\n",
       "      <td>49904</td>\n",
       "      <td>-24.02</td>\n",
       "    </tr>\n",
       "    <tr>\n",
       "      <th>125</th>\n",
       "      <td>2023-10-08</td>\n",
       "      <td>56626</td>\n",
       "      <td>-13.83</td>\n",
       "    </tr>\n",
       "    <tr>\n",
       "      <th>126</th>\n",
       "      <td>2023-09-02</td>\n",
       "      <td>39175</td>\n",
       "      <td>-0.88</td>\n",
       "    </tr>\n",
       "  </tbody>\n",
       "</table>\n",
       "<p>127 rows × 3 columns</p>\n",
       "</div>"
      ],
      "text/plain": [
       "     sale_date  contact_id  sum_disc\n",
       "0   2023-09-08       52093  -3307.96\n",
       "1   2023-09-13       30216  -1599.00\n",
       "2   2023-08-17        6627  -1569.99\n",
       "3   2023-09-13        9799  -1220.01\n",
       "4   2023-08-30       69480  -1139.97\n",
       "..         ...         ...       ...\n",
       "122 2023-10-04       17415    -40.02\n",
       "123 2023-08-31       70114    -28.03\n",
       "124 2023-09-28       49904    -24.02\n",
       "125 2023-10-08       56626    -13.83\n",
       "126 2023-09-02       39175     -0.88\n",
       "\n",
       "[127 rows x 3 columns]"
      ]
     },
     "execution_count": 15,
     "metadata": {},
     "output_type": "execute_result"
    }
   ],
   "source": [
    "sample.query(\"sum_disc<0\")"
   ]
  },
  {
   "cell_type": "code",
   "execution_count": 16,
   "id": "87c39b2d",
   "metadata": {},
   "outputs": [],
   "source": [
    "condition = (sample['sum_disc'] < 0)"
   ]
  },
  {
   "cell_type": "code",
   "execution_count": 17,
   "id": "93b4b59a",
   "metadata": {},
   "outputs": [],
   "source": [
    "sample = sample.drop(sample[condition].index)"
   ]
  },
  {
   "cell_type": "code",
   "execution_count": 18,
   "id": "1c5f1b1e",
   "metadata": {},
   "outputs": [
    {
     "data": {
      "text/plain": [
       "1046728"
      ]
     },
     "execution_count": 18,
     "metadata": {},
     "output_type": "execute_result"
    }
   ],
   "source": [
    "sample.shape[0]"
   ]
  },
  {
   "cell_type": "code",
   "execution_count": 19,
   "id": "77acaa2f",
   "metadata": {},
   "outputs": [
    {
     "name": "stdout",
     "output_type": "stream",
     "text": [
      "<class 'pandas.core.frame.DataFrame'>\n",
      "RangeIndex: 1046728 entries, 127 to 1046854\n",
      "Data columns (total 3 columns):\n",
      " #   Column      Non-Null Count    Dtype         \n",
      "---  ------      --------------    -----         \n",
      " 0   sale_date   1046728 non-null  datetime64[ns]\n",
      " 1   contact_id  1046728 non-null  int64         \n",
      " 2   sum_disc    1046728 non-null  float64       \n",
      "dtypes: datetime64[ns](1), float64(1), int64(1)\n",
      "memory usage: 24.0 MB\n"
     ]
    }
   ],
   "source": [
    "sample.info()"
   ]
  },
  {
   "cell_type": "markdown",
   "id": "bae07a8c",
   "metadata": {},
   "source": [
    "##### Вижу что содержание колонок соответсвует типу данных"
   ]
  },
  {
   "cell_type": "code",
   "execution_count": 20,
   "id": "9be8c348",
   "metadata": {},
   "outputs": [
    {
     "name": "stderr",
     "output_type": "stream",
     "text": [
      "C:\\Users\\Марина\\AppData\\Local\\Temp\\ipykernel_8940\\3969654445.py:1: FutureWarning: Treating datetime data as categorical rather than numeric in `.describe` is deprecated and will be removed in a future version of pandas. Specify `datetime_is_numeric=True` to silence this warning and adopt the future behavior now.\n",
      "  sample['sale_date'].describe()\n"
     ]
    },
    {
     "data": {
      "text/plain": [
       "count                 1046728\n",
       "unique                     83\n",
       "top       2023-08-02 00:00:00\n",
       "freq                    14885\n",
       "first     2023-08-02 00:00:00\n",
       "last      2023-10-23 00:00:00\n",
       "Name: sale_date, dtype: object"
      ]
     },
     "execution_count": 20,
     "metadata": {},
     "output_type": "execute_result"
    }
   ],
   "source": [
    "sample['sale_date'].describe()"
   ]
  },
  {
   "cell_type": "markdown",
   "id": "6484629b",
   "metadata": {},
   "source": [
    "##### Данные в таблице за неполных три месяца\n",
    "##### Первая дата покупки была 02 августа 2023 года, а последняя 23 октября 2023\n",
    "##### Обозначу дату последней покупки, она нам пригодится для дальнейшего анализа"
   ]
  },
  {
   "cell_type": "code",
   "execution_count": 21,
   "id": "fa6c0e0f",
   "metadata": {},
   "outputs": [],
   "source": [
    "last_date = sample['sale_date'].max()"
   ]
  },
  {
   "cell_type": "markdown",
   "id": "3ad851a5",
   "metadata": {},
   "source": [
    "##### Вычислю , сколько прошло дней с момента последней покупки last_date, у клиента -- Recency\n",
    "##### количество покупок для каждого клиента за все время -- Frequency\n",
    "##### сумму всех покупок клиента (LTV) -- Monetary"
   ]
  },
  {
   "cell_type": "markdown",
   "id": "c9301330",
   "metadata": {},
   "source": [
    "##### Cгруппирую датасет для каждого клиента и посчитаю все нужные для RFM анализа показатели"
   ]
  },
  {
   "cell_type": "code",
   "execution_count": 22,
   "id": "1ac93bc9",
   "metadata": {},
   "outputs": [],
   "source": [
    "rfm_table = sample.groupby('contact_id').agg({'sale_date': lambda x: (last_date - x.max()).days, # Recency -- Количество дней с последнего заказа\n",
    "                                        'contact_id': lambda x: len(x),      # Frequency -- Количество заказов\n",
    "                                        'sum_disc': lambda x: x.sum()}, as_index = False) # Monetary Value -- Общая сумма по всем заказам\n",
    "\n",
    "rfm_table['sale_date'] = rfm_table['sale_date'].astype(int)\n",
    "rfm_table.rename(columns={'sale_date': 'recency', \n",
    "                         'contact_id': 'frequency', \n",
    "                         'sum_disc': 'monetary_value'}, inplace=True)"
   ]
  },
  {
   "cell_type": "code",
   "execution_count": 23,
   "id": "95cb0173",
   "metadata": {},
   "outputs": [
    {
     "data": {
      "text/html": [
       "<div>\n",
       "<style scoped>\n",
       "    .dataframe tbody tr th:only-of-type {\n",
       "        vertical-align: middle;\n",
       "    }\n",
       "\n",
       "    .dataframe tbody tr th {\n",
       "        vertical-align: top;\n",
       "    }\n",
       "\n",
       "    .dataframe thead th {\n",
       "        text-align: right;\n",
       "    }\n",
       "</style>\n",
       "<table border=\"1\" class=\"dataframe\">\n",
       "  <thead>\n",
       "    <tr style=\"text-align: right;\">\n",
       "      <th></th>\n",
       "      <th>recency</th>\n",
       "      <th>frequency</th>\n",
       "      <th>monetary_value</th>\n",
       "    </tr>\n",
       "    <tr>\n",
       "      <th>contact_id</th>\n",
       "      <th></th>\n",
       "      <th></th>\n",
       "      <th></th>\n",
       "    </tr>\n",
       "  </thead>\n",
       "  <tbody>\n",
       "    <tr>\n",
       "      <th>-1</th>\n",
       "      <td>0</td>\n",
       "      <td>72</td>\n",
       "      <td>1.546815e+09</td>\n",
       "    </tr>\n",
       "    <tr>\n",
       "      <th>1167</th>\n",
       "      <td>4</td>\n",
       "      <td>33</td>\n",
       "      <td>3.262766e+04</td>\n",
       "    </tr>\n",
       "    <tr>\n",
       "      <th>1168</th>\n",
       "      <td>2</td>\n",
       "      <td>2</td>\n",
       "      <td>1.932120e+03</td>\n",
       "    </tr>\n",
       "    <tr>\n",
       "      <th>1170</th>\n",
       "      <td>47</td>\n",
       "      <td>3</td>\n",
       "      <td>5.336390e+03</td>\n",
       "    </tr>\n",
       "    <tr>\n",
       "      <th>1171</th>\n",
       "      <td>8</td>\n",
       "      <td>19</td>\n",
       "      <td>5.769522e+04</td>\n",
       "    </tr>\n",
       "  </tbody>\n",
       "</table>\n",
       "</div>"
      ],
      "text/plain": [
       "            recency  frequency  monetary_value\n",
       "contact_id                                    \n",
       "-1                0         72    1.546815e+09\n",
       " 1167             4         33    3.262766e+04\n",
       " 1168             2          2    1.932120e+03\n",
       " 1170            47          3    5.336390e+03\n",
       " 1171             8         19    5.769522e+04"
      ]
     },
     "execution_count": 23,
     "metadata": {},
     "output_type": "execute_result"
    }
   ],
   "source": [
    "rfm_table.head()"
   ]
  },
  {
   "cell_type": "code",
   "execution_count": 24,
   "id": "cacc20b9",
   "metadata": {},
   "outputs": [
    {
     "data": {
      "text/plain": [
       "58769"
      ]
     },
     "execution_count": 24,
     "metadata": {},
     "output_type": "execute_result"
    }
   ],
   "source": [
    "rfm_table.shape[0]"
   ]
  },
  {
   "cell_type": "code",
   "execution_count": 25,
   "id": "a68f5796",
   "metadata": {},
   "outputs": [
    {
     "data": {
      "text/plain": [
       "58769"
      ]
     },
     "execution_count": 25,
     "metadata": {},
     "output_type": "execute_result"
    }
   ],
   "source": [
    "sample['contact_id'].nunique()"
   ]
  },
  {
   "cell_type": "markdown",
   "id": "5b9c0fee",
   "metadata": {},
   "source": [
    "##### Далее разделю все распределения на ровные 4 части (используя квантили (0.25%)),\n",
    "##### для того чтобы присвоить каждому уникальному клиенту определенный класс"
   ]
  },
  {
   "cell_type": "code",
   "execution_count": 26,
   "id": "41c54792",
   "metadata": {},
   "outputs": [],
   "source": [
    "quantiles = rfm_table.quantile(q = [0.25, 0.5, 0.75, 0.95])"
   ]
  },
  {
   "cell_type": "code",
   "execution_count": 27,
   "id": "148e86b4",
   "metadata": {},
   "outputs": [
    {
     "data": {
      "text/html": [
       "<div>\n",
       "<style scoped>\n",
       "    .dataframe tbody tr th:only-of-type {\n",
       "        vertical-align: middle;\n",
       "    }\n",
       "\n",
       "    .dataframe tbody tr th {\n",
       "        vertical-align: top;\n",
       "    }\n",
       "\n",
       "    .dataframe thead th {\n",
       "        text-align: right;\n",
       "    }\n",
       "</style>\n",
       "<table border=\"1\" class=\"dataframe\">\n",
       "  <thead>\n",
       "    <tr style=\"text-align: right;\">\n",
       "      <th></th>\n",
       "      <th>recency</th>\n",
       "      <th>frequency</th>\n",
       "      <th>monetary_value</th>\n",
       "    </tr>\n",
       "  </thead>\n",
       "  <tbody>\n",
       "    <tr>\n",
       "      <th>0.25</th>\n",
       "      <td>1.0</td>\n",
       "      <td>7.0</td>\n",
       "      <td>4238.800</td>\n",
       "    </tr>\n",
       "    <tr>\n",
       "      <th>0.50</th>\n",
       "      <td>3.0</td>\n",
       "      <td>14.0</td>\n",
       "      <td>10436.020</td>\n",
       "    </tr>\n",
       "    <tr>\n",
       "      <th>0.75</th>\n",
       "      <td>10.0</td>\n",
       "      <td>26.0</td>\n",
       "      <td>21071.600</td>\n",
       "    </tr>\n",
       "    <tr>\n",
       "      <th>0.95</th>\n",
       "      <td>47.0</td>\n",
       "      <td>46.0</td>\n",
       "      <td>45849.396</td>\n",
       "    </tr>\n",
       "  </tbody>\n",
       "</table>\n",
       "</div>"
      ],
      "text/plain": [
       "      recency  frequency  monetary_value\n",
       "0.25      1.0        7.0        4238.800\n",
       "0.50      3.0       14.0       10436.020\n",
       "0.75     10.0       26.0       21071.600\n",
       "0.95     47.0       46.0       45849.396"
      ]
     },
     "execution_count": 27,
     "metadata": {},
     "output_type": "execute_result"
    }
   ],
   "source": [
    "quantiles"
   ]
  },
  {
   "cell_type": "markdown",
   "id": "ad1002ba",
   "metadata": {},
   "source": [
    "##### В recency чем ниже квантиль , чем выше класс.\n",
    "##### 0.25 -- 1 класс, активные\n",
    "##### 0.5 -- 2 класс, лояльные\n",
    "##### 0.75 -- 3 класс, спящие\n",
    "##### 0.95 -- 4 класс, отвалившиеся"
   ]
  },
  {
   "cell_type": "markdown",
   "id": "38baef87",
   "metadata": {},
   "source": [
    "##### А в frequency и monetary_value логика обратная, чем выше квантиль, тем выше и класс\n",
    "##### 0.95 -- 1 класс, активные\n",
    "##### 0.75 -- 2 класс, лояльные\n",
    "##### 0.5 -- 3 класс, спящие\n",
    "##### 0.25 -- 4 класс, отвалившиеся"
   ]
  },
  {
   "cell_type": "markdown",
   "id": "5df614ab",
   "metadata": {},
   "source": [
    "##### Напишу для этого распределения функцию"
   ]
  },
  {
   "cell_type": "code",
   "execution_count": 28,
   "id": "702a1d3a",
   "metadata": {},
   "outputs": [],
   "source": [
    "rfm_segmentation = rfm_table"
   ]
  },
  {
   "cell_type": "code",
   "execution_count": 29,
   "id": "c0398b6f",
   "metadata": {},
   "outputs": [],
   "source": [
    "def R_class(value,parameter_name,quantiles_table):\n",
    "    if value <= quantiles_table[parameter_name][0.25]:\n",
    "        return 1\n",
    "    elif value <= quantiles_table[parameter_name][0.50]:\n",
    "        return 2\n",
    "    elif value <= quantiles_table[parameter_name][0.75]: \n",
    "        return 3\n",
    "    else:\n",
    "        return 4\n",
    "\n",
    "\n",
    "def FM_class(value, parameter_name,quantiles_table):\n",
    "    if value <= quantiles_table[parameter_name][0.25]:\n",
    "        return 4\n",
    "    elif value <= quantiles_table[parameter_name][0.50]:\n",
    "        return 3\n",
    "    elif value <= quantiles_table[parameter_name][0.75]: \n",
    "        return 2\n",
    "    else:\n",
    "        return 1"
   ]
  },
  {
   "cell_type": "code",
   "execution_count": 30,
   "id": "970ce172",
   "metadata": {},
   "outputs": [],
   "source": [
    "rfm_segmentation['R_Quartile'] = rfm_segmentation['recency'].apply(R_class, args=('recency',quantiles))\n",
    "\n",
    "rfm_segmentation['F_Quartile'] = rfm_segmentation['frequency'].apply(FM_class, args=('frequency',quantiles))\n",
    "\n",
    "rfm_segmentation['M_Quartile'] = rfm_segmentation['monetary_value'].apply(FM_class, args=('monetary_value',quantiles))\n",
    "\n",
    "rfm_segmentation['RFM_class'] = rfm_segmentation.R_Quartile.map(str) \\\n",
    "                              + rfm_segmentation.F_Quartile.map(str) \\\n",
    "                              + rfm_segmentation.M_Quartile.map(str)"
   ]
  },
  {
   "cell_type": "code",
   "execution_count": 31,
   "id": "9acaba5e",
   "metadata": {},
   "outputs": [
    {
     "data": {
      "text/html": [
       "<div>\n",
       "<style scoped>\n",
       "    .dataframe tbody tr th:only-of-type {\n",
       "        vertical-align: middle;\n",
       "    }\n",
       "\n",
       "    .dataframe tbody tr th {\n",
       "        vertical-align: top;\n",
       "    }\n",
       "\n",
       "    .dataframe thead th {\n",
       "        text-align: right;\n",
       "    }\n",
       "</style>\n",
       "<table border=\"1\" class=\"dataframe\">\n",
       "  <thead>\n",
       "    <tr style=\"text-align: right;\">\n",
       "      <th></th>\n",
       "      <th>recency</th>\n",
       "      <th>frequency</th>\n",
       "      <th>monetary_value</th>\n",
       "      <th>R_Quartile</th>\n",
       "      <th>F_Quartile</th>\n",
       "      <th>M_Quartile</th>\n",
       "      <th>RFM_class</th>\n",
       "    </tr>\n",
       "    <tr>\n",
       "      <th>contact_id</th>\n",
       "      <th></th>\n",
       "      <th></th>\n",
       "      <th></th>\n",
       "      <th></th>\n",
       "      <th></th>\n",
       "      <th></th>\n",
       "      <th></th>\n",
       "    </tr>\n",
       "  </thead>\n",
       "  <tbody>\n",
       "    <tr>\n",
       "      <th>-1</th>\n",
       "      <td>0</td>\n",
       "      <td>72</td>\n",
       "      <td>1.546815e+09</td>\n",
       "      <td>1</td>\n",
       "      <td>1</td>\n",
       "      <td>1</td>\n",
       "      <td>111</td>\n",
       "    </tr>\n",
       "    <tr>\n",
       "      <th>1167</th>\n",
       "      <td>4</td>\n",
       "      <td>33</td>\n",
       "      <td>3.262766e+04</td>\n",
       "      <td>3</td>\n",
       "      <td>1</td>\n",
       "      <td>1</td>\n",
       "      <td>311</td>\n",
       "    </tr>\n",
       "    <tr>\n",
       "      <th>1168</th>\n",
       "      <td>2</td>\n",
       "      <td>2</td>\n",
       "      <td>1.932120e+03</td>\n",
       "      <td>2</td>\n",
       "      <td>4</td>\n",
       "      <td>4</td>\n",
       "      <td>244</td>\n",
       "    </tr>\n",
       "    <tr>\n",
       "      <th>1170</th>\n",
       "      <td>47</td>\n",
       "      <td>3</td>\n",
       "      <td>5.336390e+03</td>\n",
       "      <td>4</td>\n",
       "      <td>4</td>\n",
       "      <td>3</td>\n",
       "      <td>443</td>\n",
       "    </tr>\n",
       "    <tr>\n",
       "      <th>1171</th>\n",
       "      <td>8</td>\n",
       "      <td>19</td>\n",
       "      <td>5.769522e+04</td>\n",
       "      <td>3</td>\n",
       "      <td>2</td>\n",
       "      <td>1</td>\n",
       "      <td>321</td>\n",
       "    </tr>\n",
       "  </tbody>\n",
       "</table>\n",
       "</div>"
      ],
      "text/plain": [
       "            recency  frequency  monetary_value  R_Quartile  F_Quartile  \\\n",
       "contact_id                                                               \n",
       "-1                0         72    1.546815e+09           1           1   \n",
       " 1167             4         33    3.262766e+04           3           1   \n",
       " 1168             2          2    1.932120e+03           2           4   \n",
       " 1170            47          3    5.336390e+03           4           4   \n",
       " 1171             8         19    5.769522e+04           3           2   \n",
       "\n",
       "            M_Quartile RFM_class  \n",
       "contact_id                        \n",
       "-1                   1       111  \n",
       " 1167                1       311  \n",
       " 1168                4       244  \n",
       " 1170                3       443  \n",
       " 1171                1       321  "
      ]
     },
     "execution_count": 31,
     "metadata": {},
     "output_type": "execute_result"
    }
   ],
   "source": [
    "rfm_segmentation.head()"
   ]
  },
  {
   "cell_type": "markdown",
   "id": "42ddf98d",
   "metadata": {},
   "source": [
    "##### Создам график seaborn с RF табличкой и посмотрю как распределились клиенты\n",
    "##### В ячейках укажу медианное значение LTV в сегменте"
   ]
  },
  {
   "cell_type": "code",
   "execution_count": 32,
   "id": "d92e643d",
   "metadata": {},
   "outputs": [
    {
     "data": {
      "image/png": "[encoded data removed]",
      "text/plain": [
       "<Figure size 640x480 with 2 Axes>"
      ]
     },
     "metadata": {},
     "output_type": "display_data"
    }
   ],
   "source": [
    "RFM = rfm_segmentation.pivot_table(\n",
    "                        index='R_Quartile', \n",
    "                        columns='F_Quartile', \n",
    "                        values='monetary_value', \n",
    "                        aggfunc=np.median).applymap(int)\n",
    "sns.heatmap(RFM, cmap=\"YlGnBu\", annot=True, fmt=\".0f\", linewidths=4.15, annot_kws={\"size\": 10},yticklabels=4);"
   ]
  },
  {
   "cell_type": "code",
   "execution_count": 35,
   "id": "40174d1e",
   "metadata": {},
   "outputs": [
    {
     "data": {
      "text/plain": [
       "444    8094\n",
       "111    6381\n",
       "122    2548\n",
       "344    2392\n",
       "211    2376\n",
       "       ... \n",
       "413      11\n",
       "141      11\n",
       "114       6\n",
       "314       4\n",
       "214       3\n",
       "Name: RFM_class, Length: 63, dtype: int64"
      ]
     },
     "execution_count": 35,
     "metadata": {},
     "output_type": "execute_result"
    }
   ],
   "source": [
    "rfm_segmentation['RFM_class'].value_counts().sort_values(ascending = False)"
   ]
  },
  {
   "cell_type": "markdown",
   "id": "09a95d7e",
   "metadata": {},
   "source": [
    "##### Анализ показал, что у нас большинство клиентов в группе 444, то есть 8094 клиента отвалившиеся.\n",
    "##### 6381 клиент в группе 111 -- активные.\n",
    "\n",
    "##### Для повышения прибыли и эффективности маркетинга\n",
    "##### следует сосредоточить усилия на сегментах с высокими показателями (111, 122)\n",
    "##### и стратегически подходить к сегментам с низкой активностью (444),\n",
    "##### возможно, применяя персонализированные подходы для их вовлечения."
   ]
  }
 ],
 "metadata": {
  "kernelspec": {
   "display_name": "Python 3 (ipykernel)",
   "language": "python",
   "name": "python3"
  },
  "language_info": {
   "codemirror_mode": {
    "name": "ipython",
    "version": 3
   },
   "file_extension": ".py",
   "mimetype": "text/x-python",
   "name": "python",
   "nbconvert_exporter": "python",
   "pygments_lexer": "ipython3",
   "version": "3.11.4"
  }
 },
 "nbformat": 4,
 "nbformat_minor": 5
}
